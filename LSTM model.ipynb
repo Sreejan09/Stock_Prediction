{
 "cells": [
  {
   "cell_type": "code",
   "execution_count": 1,
   "id": "8cc7e91c",
   "metadata": {},
   "outputs": [],
   "source": [
    "import numpy as ny\n",
    "import pandas as pd\n",
    "import matplotlib.pyplot as plt\n",
    "import pandas_datareader as data"
   ]
  },
  {
   "cell_type": "code",
   "execution_count": 2,
   "id": "f7ba4197",
   "metadata": {},
   "outputs": [
    {
     "name": "stdout",
     "output_type": "stream",
     "text": [
      "[*********************100%***********************]  1 of 1 completed\n",
      "                  Open        High         Low       Close   Adj Close  \\\n",
      "Date                                                                     \n",
      "2000-01-03   22.267092   22.988886   22.101974   22.988886   16.423580   \n",
      "2000-01-04   22.988886   24.720245   22.535995   24.446625   17.465008   \n",
      "2000-01-05   23.493668   24.974997   23.116261   23.441774   16.747124   \n",
      "2000-01-06   23.776726   25.286358   23.776726   24.625893   17.593079   \n",
      "2000-01-07   24.673071   26.409147   24.059780   25.786425   18.422182   \n",
      "...                ...         ...         ...         ...         ...   \n",
      "2022-12-26  574.000000  601.700012  570.700012  597.099976  597.099976   \n",
      "2022-12-27  600.400024  603.099976  593.299988  601.900024  601.900024   \n",
      "2022-12-28  600.900024  607.000000  598.549988  601.049988  601.049988   \n",
      "2022-12-29  600.000000  618.000000  597.150024  611.799988  611.799988   \n",
      "2022-12-30  615.250000  620.549988  611.349976  613.700012  613.700012   \n",
      "\n",
      "              Volume  \n",
      "Date                  \n",
      "2000-01-03  25152894  \n",
      "2000-01-04  47648560  \n",
      "2000-01-05  36396207  \n",
      "2000-01-06  70573968  \n",
      "2000-01-07  83453217  \n",
      "...              ...  \n",
      "2022-12-26  13201587  \n",
      "2022-12-27   9638618  \n",
      "2022-12-28   7988631  \n",
      "2022-12-29  20130392  \n",
      "2022-12-30  13052895  \n",
      "\n",
      "[5746 rows x 6 columns]\n"
     ]
    }
   ],
   "source": [
    "\n",
    "from pandas_datareader import data as pdr\n",
    "import yfinance as yfin\n",
    "\n",
    "\n",
    "yfin.pdr_override()\n",
    "start = '2000-01-01'\n",
    "end = '2023-01-01'\n",
    "spy = pdr.get_data_yahoo('SBIN.NS', start, end)\n",
    "\n",
    "print(spy)"
   ]
  },
  {
   "cell_type": "code",
   "execution_count": 3,
   "id": "bc5ba7c4",
   "metadata": {},
   "outputs": [
    {
     "data": {
      "text/html": [
       "<div>\n",
       "<style scoped>\n",
       "    .dataframe tbody tr th:only-of-type {\n",
       "        vertical-align: middle;\n",
       "    }\n",
       "\n",
       "    .dataframe tbody tr th {\n",
       "        vertical-align: top;\n",
       "    }\n",
       "\n",
       "    .dataframe thead th {\n",
       "        text-align: right;\n",
       "    }\n",
       "</style>\n",
       "<table border=\"1\" class=\"dataframe\">\n",
       "  <thead>\n",
       "    <tr style=\"text-align: right;\">\n",
       "      <th></th>\n",
       "      <th>Open</th>\n",
       "      <th>High</th>\n",
       "      <th>Low</th>\n",
       "      <th>Close</th>\n",
       "      <th>Adj Close</th>\n",
       "      <th>Volume</th>\n",
       "    </tr>\n",
       "    <tr>\n",
       "      <th>Date</th>\n",
       "      <th></th>\n",
       "      <th></th>\n",
       "      <th></th>\n",
       "      <th></th>\n",
       "      <th></th>\n",
       "      <th></th>\n",
       "    </tr>\n",
       "  </thead>\n",
       "  <tbody>\n",
       "    <tr>\n",
       "      <th>2000-01-03</th>\n",
       "      <td>22.267092</td>\n",
       "      <td>22.988886</td>\n",
       "      <td>22.101974</td>\n",
       "      <td>22.988886</td>\n",
       "      <td>16.423580</td>\n",
       "      <td>25152894</td>\n",
       "    </tr>\n",
       "    <tr>\n",
       "      <th>2000-01-04</th>\n",
       "      <td>22.988886</td>\n",
       "      <td>24.720245</td>\n",
       "      <td>22.535995</td>\n",
       "      <td>24.446625</td>\n",
       "      <td>17.465008</td>\n",
       "      <td>47648560</td>\n",
       "    </tr>\n",
       "    <tr>\n",
       "      <th>2000-01-05</th>\n",
       "      <td>23.493668</td>\n",
       "      <td>24.974997</td>\n",
       "      <td>23.116261</td>\n",
       "      <td>23.441774</td>\n",
       "      <td>16.747124</td>\n",
       "      <td>36396207</td>\n",
       "    </tr>\n",
       "    <tr>\n",
       "      <th>2000-01-06</th>\n",
       "      <td>23.776726</td>\n",
       "      <td>25.286358</td>\n",
       "      <td>23.776726</td>\n",
       "      <td>24.625893</td>\n",
       "      <td>17.593079</td>\n",
       "      <td>70573968</td>\n",
       "    </tr>\n",
       "    <tr>\n",
       "      <th>2000-01-07</th>\n",
       "      <td>24.673071</td>\n",
       "      <td>26.409147</td>\n",
       "      <td>24.059780</td>\n",
       "      <td>25.786425</td>\n",
       "      <td>18.422182</td>\n",
       "      <td>83453217</td>\n",
       "    </tr>\n",
       "  </tbody>\n",
       "</table>\n",
       "</div>"
      ],
      "text/plain": [
       "                 Open       High        Low      Close  Adj Close    Volume\n",
       "Date                                                                       \n",
       "2000-01-03  22.267092  22.988886  22.101974  22.988886  16.423580  25152894\n",
       "2000-01-04  22.988886  24.720245  22.535995  24.446625  17.465008  47648560\n",
       "2000-01-05  23.493668  24.974997  23.116261  23.441774  16.747124  36396207\n",
       "2000-01-06  23.776726  25.286358  23.776726  24.625893  17.593079  70573968\n",
       "2000-01-07  24.673071  26.409147  24.059780  25.786425  18.422182  83453217"
      ]
     },
     "execution_count": 3,
     "metadata": {},
     "output_type": "execute_result"
    }
   ],
   "source": [
    "spy.head()\n",
    "# spy.tail()"
   ]
  },
  {
   "cell_type": "code",
   "execution_count": 4,
   "id": "e6d6e75a",
   "metadata": {},
   "outputs": [
    {
     "data": {
      "text/html": [
       "<div>\n",
       "<style scoped>\n",
       "    .dataframe tbody tr th:only-of-type {\n",
       "        vertical-align: middle;\n",
       "    }\n",
       "\n",
       "    .dataframe tbody tr th {\n",
       "        vertical-align: top;\n",
       "    }\n",
       "\n",
       "    .dataframe thead th {\n",
       "        text-align: right;\n",
       "    }\n",
       "</style>\n",
       "<table border=\"1\" class=\"dataframe\">\n",
       "  <thead>\n",
       "    <tr style=\"text-align: right;\">\n",
       "      <th></th>\n",
       "      <th>Date</th>\n",
       "      <th>Open</th>\n",
       "      <th>High</th>\n",
       "      <th>Low</th>\n",
       "      <th>Close</th>\n",
       "      <th>Adj Close</th>\n",
       "      <th>Volume</th>\n",
       "    </tr>\n",
       "  </thead>\n",
       "  <tbody>\n",
       "    <tr>\n",
       "      <th>0</th>\n",
       "      <td>2000-01-03</td>\n",
       "      <td>22.267092</td>\n",
       "      <td>22.988886</td>\n",
       "      <td>22.101974</td>\n",
       "      <td>22.988886</td>\n",
       "      <td>16.423580</td>\n",
       "      <td>25152894</td>\n",
       "    </tr>\n",
       "    <tr>\n",
       "      <th>1</th>\n",
       "      <td>2000-01-04</td>\n",
       "      <td>22.988886</td>\n",
       "      <td>24.720245</td>\n",
       "      <td>22.535995</td>\n",
       "      <td>24.446625</td>\n",
       "      <td>17.465008</td>\n",
       "      <td>47648560</td>\n",
       "    </tr>\n",
       "    <tr>\n",
       "      <th>2</th>\n",
       "      <td>2000-01-05</td>\n",
       "      <td>23.493668</td>\n",
       "      <td>24.974997</td>\n",
       "      <td>23.116261</td>\n",
       "      <td>23.441774</td>\n",
       "      <td>16.747124</td>\n",
       "      <td>36396207</td>\n",
       "    </tr>\n",
       "    <tr>\n",
       "      <th>3</th>\n",
       "      <td>2000-01-06</td>\n",
       "      <td>23.776726</td>\n",
       "      <td>25.286358</td>\n",
       "      <td>23.776726</td>\n",
       "      <td>24.625893</td>\n",
       "      <td>17.593079</td>\n",
       "      <td>70573968</td>\n",
       "    </tr>\n",
       "    <tr>\n",
       "      <th>4</th>\n",
       "      <td>2000-01-07</td>\n",
       "      <td>24.673071</td>\n",
       "      <td>26.409147</td>\n",
       "      <td>24.059780</td>\n",
       "      <td>25.786425</td>\n",
       "      <td>18.422182</td>\n",
       "      <td>83453217</td>\n",
       "    </tr>\n",
       "  </tbody>\n",
       "</table>\n",
       "</div>"
      ],
      "text/plain": [
       "        Date       Open       High        Low      Close  Adj Close    Volume\n",
       "0 2000-01-03  22.267092  22.988886  22.101974  22.988886  16.423580  25152894\n",
       "1 2000-01-04  22.988886  24.720245  22.535995  24.446625  17.465008  47648560\n",
       "2 2000-01-05  23.493668  24.974997  23.116261  23.441774  16.747124  36396207\n",
       "3 2000-01-06  23.776726  25.286358  23.776726  24.625893  17.593079  70573968\n",
       "4 2000-01-07  24.673071  26.409147  24.059780  25.786425  18.422182  83453217"
      ]
     },
     "execution_count": 4,
     "metadata": {},
     "output_type": "execute_result"
    }
   ],
   "source": [
    "spy = spy.reset_index()\n",
    "spy.head()"
   ]
  },
  {
   "cell_type": "code",
   "execution_count": 5,
   "id": "fa2447f4",
   "metadata": {},
   "outputs": [
    {
     "data": {
      "text/html": [
       "<div>\n",
       "<style scoped>\n",
       "    .dataframe tbody tr th:only-of-type {\n",
       "        vertical-align: middle;\n",
       "    }\n",
       "\n",
       "    .dataframe tbody tr th {\n",
       "        vertical-align: top;\n",
       "    }\n",
       "\n",
       "    .dataframe thead th {\n",
       "        text-align: right;\n",
       "    }\n",
       "</style>\n",
       "<table border=\"1\" class=\"dataframe\">\n",
       "  <thead>\n",
       "    <tr style=\"text-align: right;\">\n",
       "      <th></th>\n",
       "      <th>Open</th>\n",
       "      <th>High</th>\n",
       "      <th>Low</th>\n",
       "      <th>Close</th>\n",
       "      <th>Volume</th>\n",
       "    </tr>\n",
       "  </thead>\n",
       "  <tbody>\n",
       "    <tr>\n",
       "      <th>0</th>\n",
       "      <td>22.267092</td>\n",
       "      <td>22.988886</td>\n",
       "      <td>22.101974</td>\n",
       "      <td>22.988886</td>\n",
       "      <td>25152894</td>\n",
       "    </tr>\n",
       "    <tr>\n",
       "      <th>1</th>\n",
       "      <td>22.988886</td>\n",
       "      <td>24.720245</td>\n",
       "      <td>22.535995</td>\n",
       "      <td>24.446625</td>\n",
       "      <td>47648560</td>\n",
       "    </tr>\n",
       "    <tr>\n",
       "      <th>2</th>\n",
       "      <td>23.493668</td>\n",
       "      <td>24.974997</td>\n",
       "      <td>23.116261</td>\n",
       "      <td>23.441774</td>\n",
       "      <td>36396207</td>\n",
       "    </tr>\n",
       "    <tr>\n",
       "      <th>3</th>\n",
       "      <td>23.776726</td>\n",
       "      <td>25.286358</td>\n",
       "      <td>23.776726</td>\n",
       "      <td>24.625893</td>\n",
       "      <td>70573968</td>\n",
       "    </tr>\n",
       "    <tr>\n",
       "      <th>4</th>\n",
       "      <td>24.673071</td>\n",
       "      <td>26.409147</td>\n",
       "      <td>24.059780</td>\n",
       "      <td>25.786425</td>\n",
       "      <td>83453217</td>\n",
       "    </tr>\n",
       "  </tbody>\n",
       "</table>\n",
       "</div>"
      ],
      "text/plain": [
       "        Open       High        Low      Close    Volume\n",
       "0  22.267092  22.988886  22.101974  22.988886  25152894\n",
       "1  22.988886  24.720245  22.535995  24.446625  47648560\n",
       "2  23.493668  24.974997  23.116261  23.441774  36396207\n",
       "3  23.776726  25.286358  23.776726  24.625893  70573968\n",
       "4  24.673071  26.409147  24.059780  25.786425  83453217"
      ]
     },
     "execution_count": 5,
     "metadata": {},
     "output_type": "execute_result"
    }
   ],
   "source": [
    "spy = spy.drop(['Date', 'Adj Close'], axis = 1)\n",
    "spy.head()"
   ]
  },
  {
   "cell_type": "code",
   "execution_count": 6,
   "id": "b8602baa",
   "metadata": {},
   "outputs": [
    {
     "data": {
      "text/plain": [
       "[<matplotlib.lines.Line2D at 0x155a9084790>]"
      ]
     },
     "execution_count": 6,
     "metadata": {},
     "output_type": "execute_result"
    },
    {
     "data": {
      "image/png": "[encoded data removed]",
      "text/plain": [
       "<Figure size 640x480 with 1 Axes>"
      ]
     },
     "metadata": {},
     "output_type": "display_data"
    }
   ],
   "source": [
    "plt.plot(spy.Close)"
   ]
  },
  {
   "cell_type": "code",
   "execution_count": 7,
   "id": "5d93c829",
   "metadata": {},
   "outputs": [
    {
     "data": {
      "text/plain": [
       "0            NaN\n",
       "1            NaN\n",
       "2            NaN\n",
       "3            NaN\n",
       "4            NaN\n",
       "          ...   \n",
       "5741    565.3870\n",
       "5742    566.0685\n",
       "5743    566.6580\n",
       "5744    567.3675\n",
       "5745    568.1720\n",
       "Name: Close, Length: 5746, dtype: float64"
      ]
     },
     "execution_count": 7,
     "metadata": {},
     "output_type": "execute_result"
    }
   ],
   "source": [
    "ma100= spy.Close.rolling(100).mean()\n",
    "ma100"
   ]
  },
  {
   "cell_type": "code",
   "execution_count": 8,
   "id": "cc6c3983",
   "metadata": {},
   "outputs": [
    {
     "data": {
      "text/plain": [
       "0             NaN\n",
       "1             NaN\n",
       "2             NaN\n",
       "3             NaN\n",
       "4             NaN\n",
       "          ...    \n",
       "5741    523.65725\n",
       "5742    524.46525\n",
       "5743    525.21200\n",
       "5744    525.92750\n",
       "5745    526.64425\n",
       "Name: Close, Length: 5746, dtype: float64"
      ]
     },
     "execution_count": 8,
     "metadata": {},
     "output_type": "execute_result"
    }
   ],
   "source": [
    "ma200 = spy.Close.rolling(200).mean()\n",
    "ma200"
   ]
  },
  {
   "cell_type": "code",
   "execution_count": 9,
   "id": "7feee035",
   "metadata": {},
   "outputs": [
    {
     "data": {
      "text/plain": [
       "[<matplotlib.lines.Line2D at 0x155a9706b20>]"
      ]
     },
     "execution_count": 9,
     "metadata": {},
     "output_type": "execute_result"
    },
    {
     "data": {
      "image/png": "[encoded data removed]",
      "text/plain": [
       "<Figure size 1200x600 with 1 Axes>"
      ]
     },
     "metadata": {},
     "output_type": "display_data"
    }
   ],
   "source": [
    "plt.figure(figsize=(12,6))\n",
    "plt.plot(spy.Close)\n",
    "plt.plot(ma100)\n",
    "plt.plot(ma200)"
   ]
  },
  {
   "cell_type": "code",
   "execution_count": 10,
   "id": "cfd5ebdd",
   "metadata": {},
   "outputs": [
    {
     "data": {
      "text/plain": [
       "(5746, 5)"
      ]
     },
     "execution_count": 10,
     "metadata": {},
     "output_type": "execute_result"
    }
   ],
   "source": [
    "spy.shape"
   ]
  },
  {
   "cell_type": "code",
   "execution_count": 11,
   "id": "cef415fa",
   "metadata": {},
   "outputs": [
    {
     "name": "stdout",
     "output_type": "stream",
     "text": [
      "(4022, 1)\n",
      "(1724, 1)\n"
     ]
    }
   ],
   "source": [
    "# spliting the data into training and testing\n",
    "data_training = pd.DataFrame(spy['Close'][0:int(len(spy)*0.7)])\n",
    "data_testing = pd.DataFrame(spy['Close'][int(len(spy)*.7):int(len(spy))])\n",
    "\n",
    "print(data_training.shape)\n",
    "print(data_testing.shape)\n"
   ]
  },
  {
   "cell_type": "code",
   "execution_count": 12,
   "id": "fa792033",
   "metadata": {},
   "outputs": [
    {
     "data": {
      "text/html": [
       "<div>\n",
       "<style scoped>\n",
       "    .dataframe tbody tr th:only-of-type {\n",
       "        vertical-align: middle;\n",
       "    }\n",
       "\n",
       "    .dataframe tbody tr th {\n",
       "        vertical-align: top;\n",
       "    }\n",
       "\n",
       "    .dataframe thead th {\n",
       "        text-align: right;\n",
       "    }\n",
       "</style>\n",
       "<table border=\"1\" class=\"dataframe\">\n",
       "  <thead>\n",
       "    <tr style=\"text-align: right;\">\n",
       "      <th></th>\n",
       "      <th>Close</th>\n",
       "    </tr>\n",
       "  </thead>\n",
       "  <tbody>\n",
       "    <tr>\n",
       "      <th>0</th>\n",
       "      <td>22.988886</td>\n",
       "    </tr>\n",
       "    <tr>\n",
       "      <th>1</th>\n",
       "      <td>24.446625</td>\n",
       "    </tr>\n",
       "    <tr>\n",
       "      <th>2</th>\n",
       "      <td>23.441774</td>\n",
       "    </tr>\n",
       "    <tr>\n",
       "      <th>3</th>\n",
       "      <td>24.625893</td>\n",
       "    </tr>\n",
       "    <tr>\n",
       "      <th>4</th>\n",
       "      <td>25.786425</td>\n",
       "    </tr>\n",
       "  </tbody>\n",
       "</table>\n",
       "</div>"
      ],
      "text/plain": [
       "       Close\n",
       "0  22.988886\n",
       "1  24.446625\n",
       "2  23.441774\n",
       "3  24.625893\n",
       "4  25.786425"
      ]
     },
     "execution_count": 12,
     "metadata": {},
     "output_type": "execute_result"
    }
   ],
   "source": [
    "data_training.head()"
   ]
  },
  {
   "cell_type": "code",
   "execution_count": 13,
   "id": "4dc049d3",
   "metadata": {},
   "outputs": [
    {
     "data": {
      "text/html": [
       "<div>\n",
       "<style scoped>\n",
       "    .dataframe tbody tr th:only-of-type {\n",
       "        vertical-align: middle;\n",
       "    }\n",
       "\n",
       "    .dataframe tbody tr th {\n",
       "        vertical-align: top;\n",
       "    }\n",
       "\n",
       "    .dataframe thead th {\n",
       "        text-align: right;\n",
       "    }\n",
       "</style>\n",
       "<table border=\"1\" class=\"dataframe\">\n",
       "  <thead>\n",
       "    <tr style=\"text-align: right;\">\n",
       "      <th></th>\n",
       "      <th>Close</th>\n",
       "    </tr>\n",
       "  </thead>\n",
       "  <tbody>\n",
       "    <tr>\n",
       "      <th>4022</th>\n",
       "      <td>204.300003</td>\n",
       "    </tr>\n",
       "    <tr>\n",
       "      <th>4023</th>\n",
       "      <td>199.399994</td>\n",
       "    </tr>\n",
       "    <tr>\n",
       "      <th>4024</th>\n",
       "      <td>200.899994</td>\n",
       "    </tr>\n",
       "    <tr>\n",
       "      <th>4025</th>\n",
       "      <td>196.050003</td>\n",
       "    </tr>\n",
       "    <tr>\n",
       "      <th>4026</th>\n",
       "      <td>184.300003</td>\n",
       "    </tr>\n",
       "  </tbody>\n",
       "</table>\n",
       "</div>"
      ],
      "text/plain": [
       "           Close\n",
       "4022  204.300003\n",
       "4023  199.399994\n",
       "4024  200.899994\n",
       "4025  196.050003\n",
       "4026  184.300003"
      ]
     },
     "execution_count": 13,
     "metadata": {},
     "output_type": "execute_result"
    }
   ],
   "source": [
    "data_testing.head()"
   ]
  },
  {
   "cell_type": "code",
   "execution_count": 14,
   "id": "6fb828f2",
   "metadata": {},
   "outputs": [],
   "source": [
    "from sklearn.preprocessing import MinMaxScaler\n",
    "scaler = MinMaxScaler(feature_range=(0,1))"
   ]
  },
  {
   "cell_type": "code",
   "execution_count": 15,
   "id": "a54a5295",
   "metadata": {},
   "outputs": [
    {
     "data": {
      "text/plain": [
       "array([[0.02922066],\n",
       "       [0.03363806],\n",
       "       [0.03059305],\n",
       "       ...,\n",
       "       [0.61668055],\n",
       "       [0.59455926],\n",
       "       [0.59274105]])"
      ]
     },
     "execution_count": 15,
     "metadata": {},
     "output_type": "execute_result"
    }
   ],
   "source": [
    "data_training_array = scaler.fit_transform(data_training)\n",
    "data_training_array"
   ]
  },
  {
   "cell_type": "code",
   "execution_count": 16,
   "id": "9bcad401",
   "metadata": {},
   "outputs": [],
   "source": [
    "x_train = []\n",
    "y_train= []\n",
    "for i in range(100, data_training_array.shape[0]):\n",
    "    x_train.append(data_training_array[i-100:i])\n",
    "    y_train.append(data_training_array[i, 0])\n",
    "    \n",
    "x_train, y_train = ny.array(x_train), ny.array(y_train)"
   ]
  },
  {
   "cell_type": "code",
   "execution_count": 17,
   "id": "67e9767c",
   "metadata": {},
   "outputs": [],
   "source": [
    "#ml model"
   ]
  },
  {
   "cell_type": "code",
   "execution_count": 18,
   "id": "e3a66865",
   "metadata": {},
   "outputs": [
    {
     "name": "stdout",
     "output_type": "stream",
     "text": [
      "Requirement already satisfied: keras in c:\\users\\sreej\\anaconda3\\lib\\site-packages (2.11.0)\n",
      "Note: you may need to restart the kernel to use updated packages.\n"
     ]
    }
   ],
   "source": [
    "pip install keras"
   ]
  },
  {
   "cell_type": "code",
   "execution_count": 19,
   "id": "cde40510",
   "metadata": {},
   "outputs": [
    {
     "name": "stdout",
     "output_type": "stream",
     "text": [
      "Requirement already satisfied: tensorflow in c:\\users\\sreej\\anaconda3\\lib\\site-packages (2.11.0)\n",
      "Requirement already satisfied: tensorflow-intel==2.11.0 in c:\\users\\sreej\\anaconda3\\lib\\site-packages (from tensorflow) (2.11.0)\n",
      "Requirement already satisfied: setuptools in c:\\users\\sreej\\anaconda3\\lib\\site-packages (from tensorflow-intel==2.11.0->tensorflow) (63.4.1)\n",
      "Requirement already satisfied: keras<2.12,>=2.11.0 in c:\\users\\sreej\\anaconda3\\lib\\site-packages (from tensorflow-intel==2.11.0->tensorflow) (2.11.0)\n",
      "Requirement already satisfied: h5py>=2.9.0 in c:\\users\\sreej\\anaconda3\\lib\\site-packages (from tensorflow-intel==2.11.0->tensorflow) (3.7.0)\n",
      "Requirement already satisfied: absl-py>=1.0.0 in c:\\users\\sreej\\anaconda3\\lib\\site-packages (from tensorflow-intel==2.11.0->tensorflow) (1.4.0)\n",
      "Requirement already satisfied: astunparse>=1.6.0 in c:\\users\\sreej\\anaconda3\\lib\\site-packages (from tensorflow-intel==2.11.0->tensorflow) (1.6.3)\n",
      "Requirement already satisfied: packaging in c:\\users\\sreej\\anaconda3\\lib\\site-packages (from tensorflow-intel==2.11.0->tensorflow) (21.3)\n",
      "Requirement already satisfied: tensorflow-estimator<2.12,>=2.11.0 in c:\\users\\sreej\\anaconda3\\lib\\site-packages (from tensorflow-intel==2.11.0->tensorflow) (2.11.0)\n",
      "Requirement already satisfied: typing-extensions>=3.6.6 in c:\\users\\sreej\\anaconda3\\lib\\site-packages (from tensorflow-intel==2.11.0->tensorflow) (4.3.0)\n",
      "Requirement already satisfied: grpcio<2.0,>=1.24.3 in c:\\users\\sreej\\anaconda3\\lib\\site-packages (from tensorflow-intel==2.11.0->tensorflow) (1.51.3)\n",
      "Requirement already satisfied: protobuf<3.20,>=3.9.2 in c:\\users\\sreej\\anaconda3\\lib\\site-packages (from tensorflow-intel==2.11.0->tensorflow) (3.19.6)\n",
      "Requirement already satisfied: six>=1.12.0 in c:\\users\\sreej\\anaconda3\\lib\\site-packages (from tensorflow-intel==2.11.0->tensorflow) (1.16.0)\n",
      "Requirement already satisfied: libclang>=13.0.0 in c:\\users\\sreej\\anaconda3\\lib\\site-packages (from tensorflow-intel==2.11.0->tensorflow) (15.0.6.1)\n",
      "Requirement already satisfied: termcolor>=1.1.0 in c:\\users\\sreej\\anaconda3\\lib\\site-packages (from tensorflow-intel==2.11.0->tensorflow) (2.2.0)\n",
      "Requirement already satisfied: tensorboard<2.12,>=2.11 in c:\\users\\sreej\\anaconda3\\lib\\site-packages (from tensorflow-intel==2.11.0->tensorflow) (2.11.2)\n",
      "Requirement already satisfied: flatbuffers>=2.0 in c:\\users\\sreej\\anaconda3\\lib\\site-packages (from tensorflow-intel==2.11.0->tensorflow) (23.3.3)\n",
      "Requirement already satisfied: opt-einsum>=2.3.2 in c:\\users\\sreej\\anaconda3\\lib\\site-packages (from tensorflow-intel==2.11.0->tensorflow) (3.3.0)\n",
      "Requirement already satisfied: google-pasta>=0.1.1 in c:\\users\\sreej\\anaconda3\\lib\\site-packages (from tensorflow-intel==2.11.0->tensorflow) (0.2.0)\n",
      "Requirement already satisfied: tensorflow-io-gcs-filesystem>=0.23.1 in c:\\users\\sreej\\anaconda3\\lib\\site-packages (from tensorflow-intel==2.11.0->tensorflow) (0.31.0)\n",
      "Requirement already satisfied: wrapt>=1.11.0 in c:\\users\\sreej\\anaconda3\\lib\\site-packages (from tensorflow-intel==2.11.0->tensorflow) (1.14.1)\n",
      "Requirement already satisfied: gast<=0.4.0,>=0.2.1 in c:\\users\\sreej\\anaconda3\\lib\\site-packages (from tensorflow-intel==2.11.0->tensorflow) (0.4.0)\n",
      "Requirement already satisfied: numpy>=1.20 in c:\\users\\sreej\\anaconda3\\lib\\site-packages (from tensorflow-intel==2.11.0->tensorflow) (1.21.5)\n",
      "Requirement already satisfied: wheel<1.0,>=0.23.0 in c:\\users\\sreej\\anaconda3\\lib\\site-packages (from astunparse>=1.6.0->tensorflow-intel==2.11.0->tensorflow) (0.37.1)\n",
      "Requirement already satisfied: requests<3,>=2.21.0 in c:\\users\\sreej\\anaconda3\\lib\\site-packages (from tensorboard<2.12,>=2.11->tensorflow-intel==2.11.0->tensorflow) (2.28.1)\n",
      "Requirement already satisfied: google-auth<3,>=1.6.3 in c:\\users\\sreej\\anaconda3\\lib\\site-packages (from tensorboard<2.12,>=2.11->tensorflow-intel==2.11.0->tensorflow) (2.16.2)\n",
      "Requirement already satisfied: tensorboard-data-server<0.7.0,>=0.6.0 in c:\\users\\sreej\\anaconda3\\lib\\site-packages (from tensorboard<2.12,>=2.11->tensorflow-intel==2.11.0->tensorflow) (0.6.1)\n",
      "Requirement already satisfied: werkzeug>=1.0.1 in c:\\users\\sreej\\anaconda3\\lib\\site-packages (from tensorboard<2.12,>=2.11->tensorflow-intel==2.11.0->tensorflow) (2.0.3)\n",
      "Requirement already satisfied: google-auth-oauthlib<0.5,>=0.4.1 in c:\\users\\sreej\\anaconda3\\lib\\site-packages (from tensorboard<2.12,>=2.11->tensorflow-intel==2.11.0->tensorflow) (0.4.6)\n",
      "Requirement already satisfied: tensorboard-plugin-wit>=1.6.0 in c:\\users\\sreej\\anaconda3\\lib\\site-packages (from tensorboard<2.12,>=2.11->tensorflow-intel==2.11.0->tensorflow) (1.8.1)\n",
      "Requirement already satisfied: markdown>=2.6.8 in c:\\users\\sreej\\anaconda3\\lib\\site-packages (from tensorboard<2.12,>=2.11->tensorflow-intel==2.11.0->tensorflow) (3.3.4)\n",
      "Requirement already satisfied: pyparsing!=3.0.5,>=2.0.2 in c:\\users\\sreej\\anaconda3\\lib\\site-packages (from packaging->tensorflow-intel==2.11.0->tensorflow) (3.0.9)\n",
      "Requirement already satisfied: cachetools<6.0,>=2.0.0 in c:\\users\\sreej\\anaconda3\\lib\\site-packages (from google-auth<3,>=1.6.3->tensorboard<2.12,>=2.11->tensorflow-intel==2.11.0->tensorflow) (5.3.0)\n",
      "Requirement already satisfied: rsa<5,>=3.1.4 in c:\\users\\sreej\\anaconda3\\lib\\site-packages (from google-auth<3,>=1.6.3->tensorboard<2.12,>=2.11->tensorflow-intel==2.11.0->tensorflow) (4.9)\n",
      "Requirement already satisfied: pyasn1-modules>=0.2.1 in c:\\users\\sreej\\anaconda3\\lib\\site-packages (from google-auth<3,>=1.6.3->tensorboard<2.12,>=2.11->tensorflow-intel==2.11.0->tensorflow) (0.2.8)\n",
      "Requirement already satisfied: requests-oauthlib>=0.7.0 in c:\\users\\sreej\\anaconda3\\lib\\site-packages (from google-auth-oauthlib<0.5,>=0.4.1->tensorboard<2.12,>=2.11->tensorflow-intel==2.11.0->tensorflow) (1.3.1)\n",
      "Requirement already satisfied: idna<4,>=2.5 in c:\\users\\sreej\\anaconda3\\lib\\site-packages (from requests<3,>=2.21.0->tensorboard<2.12,>=2.11->tensorflow-intel==2.11.0->tensorflow) (3.3)\n",
      "Requirement already satisfied: certifi>=2017.4.17 in c:\\users\\sreej\\anaconda3\\lib\\site-packages (from requests<3,>=2.21.0->tensorboard<2.12,>=2.11->tensorflow-intel==2.11.0->tensorflow) (2022.9.14)\n",
      "Requirement already satisfied: urllib3<1.27,>=1.21.1 in c:\\users\\sreej\\anaconda3\\lib\\site-packages (from requests<3,>=2.21.0->tensorboard<2.12,>=2.11->tensorflow-intel==2.11.0->tensorflow) (1.26.11)\n",
      "Requirement already satisfied: charset-normalizer<3,>=2 in c:\\users\\sreej\\anaconda3\\lib\\site-packages (from requests<3,>=2.21.0->tensorboard<2.12,>=2.11->tensorflow-intel==2.11.0->tensorflow) (2.0.4)\n",
      "Requirement already satisfied: pyasn1<0.5.0,>=0.4.6 in c:\\users\\sreej\\anaconda3\\lib\\site-packages (from pyasn1-modules>=0.2.1->google-auth<3,>=1.6.3->tensorboard<2.12,>=2.11->tensorflow-intel==2.11.0->tensorflow) (0.4.8)\n",
      "Requirement already satisfied: oauthlib>=3.0.0 in c:\\users\\sreej\\anaconda3\\lib\\site-packages (from requests-oauthlib>=0.7.0->google-auth-oauthlib<0.5,>=0.4.1->tensorboard<2.12,>=2.11->tensorflow-intel==2.11.0->tensorflow) (3.2.2)\n",
      "Note: you may need to restart the kernel to use updated packages.\n"
     ]
    }
   ],
   "source": [
    "pip install tensorflow"
   ]
  },
  {
   "cell_type": "code",
   "execution_count": 20,
   "id": "8600d4fe",
   "metadata": {},
   "outputs": [],
   "source": [
    "from keras.layers import Dense, Dropout, LSTM\n",
    "from keras.models import Sequential"
   ]
  },
  {
   "cell_type": "code",
   "execution_count": 21,
   "id": "75dd00c2",
   "metadata": {},
   "outputs": [],
   "source": [
    "# Creating models based on instances of the sequential() class\n",
    "# The model has one input variable, a hidden layer with two neurons, and an output layer with one binary output\n",
    "model = Sequential()\n",
    "\n",
    "# for overfitting of problem we are using dropout 0<p<1 which select random pth value and pass to the next layer\n",
    "# relu = rectified linear unit function overcomes the vanishing gradient problem, allowing models to learn faster and perform better.\n",
    "model.add(LSTM(units = 50, activation = 'relu', return_sequences = True, \n",
    "              input_shape = (x_train.shape[1],1)))\n",
    "model.add(Dropout(0.2))\n",
    "\n",
    "model.add(LSTM(units = 60, activation = 'relu', return_sequences = True, \n",
    "              input_shape = (x_train.shape[1],1)))\n",
    "model.add(Dropout(0.3))\n",
    "\n",
    "\n",
    "model.add(LSTM(units = 80, activation = 'relu', return_sequences = True, \n",
    "              input_shape = (x_train.shape[1],1)))\n",
    "model.add(Dropout(0.4))\n",
    "\n",
    "\n",
    "model.add(LSTM(units = 120, activation = 'relu'))\n",
    "model.add(Dropout(0.5))\n",
    "\n",
    "model.add(Dense(units=1))"
   ]
  },
  {
   "cell_type": "code",
   "execution_count": 22,
   "id": "ecf3c80a",
   "metadata": {},
   "outputs": [
    {
     "name": "stdout",
     "output_type": "stream",
     "text": [
      "Model: \"sequential\"\n",
      "_________________________________________________________________\n",
      " Layer (type)                Output Shape              Param #   \n",
      "=================================================================\n",
      " lstm (LSTM)                 (None, 100, 50)           10400     \n",
      "                                                                 \n",
      " dropout (Dropout)           (None, 100, 50)           0         \n",
      "                                                                 \n",
      " lstm_1 (LSTM)               (None, 100, 60)           26640     \n",
      "                                                                 \n",
      " dropout_1 (Dropout)         (None, 100, 60)           0         \n",
      "                                                                 \n",
      " lstm_2 (LSTM)               (None, 100, 80)           45120     \n",
      "                                                                 \n",
      " dropout_2 (Dropout)         (None, 100, 80)           0         \n",
      "                                                                 \n",
      " lstm_3 (LSTM)               (None, 120)               96480     \n",
      "                                                                 \n",
      " dropout_3 (Dropout)         (None, 120)               0         \n",
      "                                                                 \n",
      " dense (Dense)               (None, 1)                 121       \n",
      "                                                                 \n",
      "=================================================================\n",
      "Total params: 178,761\n",
      "Trainable params: 178,761\n",
      "Non-trainable params: 0\n",
      "_________________________________________________________________\n"
     ]
    }
   ],
   "source": [
    "model.summary()"
   ]
  },
  {
   "cell_type": "code",
   "execution_count": 23,
   "id": "5da35688",
   "metadata": {},
   "outputs": [
    {
     "name": "stdout",
     "output_type": "stream",
     "text": [
      "Epoch 1/50\n",
      "123/123 [==============================] - 23s 160ms/step - loss: 0.0301\n",
      "Epoch 2/50\n",
      "123/123 [==============================] - 26s 211ms/step - loss: 0.0073\n",
      "Epoch 3/50\n",
      "123/123 [==============================] - 25s 200ms/step - loss: 0.0067\n",
      "Epoch 4/50\n",
      "123/123 [==============================] - 24s 191ms/step - loss: 0.0058\n",
      "Epoch 5/50\n",
      "123/123 [==============================] - 25s 206ms/step - loss: 0.0054\n",
      "Epoch 6/50\n",
      "123/123 [==============================] - 23s 190ms/step - loss: 0.0051\n",
      "Epoch 7/50\n",
      "123/123 [==============================] - 22s 179ms/step - loss: 0.0050\n",
      "Epoch 8/50\n",
      "123/123 [==============================] - 22s 178ms/step - loss: 0.0044\n",
      "Epoch 9/50\n",
      "123/123 [==============================] - 22s 178ms/step - loss: 0.0043\n",
      "Epoch 10/50\n",
      "123/123 [==============================] - 22s 178ms/step - loss: 0.0043\n",
      "Epoch 11/50\n",
      "123/123 [==============================] - 22s 176ms/step - loss: 0.0039\n",
      "Epoch 12/50\n",
      "123/123 [==============================] - 21s 175ms/step - loss: 0.0039\n",
      "Epoch 13/50\n",
      "123/123 [==============================] - 22s 180ms/step - loss: 0.0035\n",
      "Epoch 14/50\n",
      "123/123 [==============================] - 22s 183ms/step - loss: 0.0035\n",
      "Epoch 15/50\n",
      "123/123 [==============================] - 23s 187ms/step - loss: 0.0036\n",
      "Epoch 16/50\n",
      "123/123 [==============================] - 22s 177ms/step - loss: 0.0031\n",
      "Epoch 17/50\n",
      "123/123 [==============================] - 21s 174ms/step - loss: 0.0031\n",
      "Epoch 18/50\n",
      "123/123 [==============================] - 22s 181ms/step - loss: 0.0030\n",
      "Epoch 19/50\n",
      "123/123 [==============================] - 22s 179ms/step - loss: 0.0030\n",
      "Epoch 20/50\n",
      "123/123 [==============================] - 22s 179ms/step - loss: 0.0028\n",
      "Epoch 21/50\n",
      "123/123 [==============================] - 22s 182ms/step - loss: 0.0028\n",
      "Epoch 22/50\n",
      "123/123 [==============================] - 22s 182ms/step - loss: 0.0028\n",
      "Epoch 23/50\n",
      "123/123 [==============================] - 23s 184ms/step - loss: 0.0028\n",
      "Epoch 24/50\n",
      "123/123 [==============================] - 22s 180ms/step - loss: 0.0028\n",
      "Epoch 25/50\n",
      "123/123 [==============================] - 22s 178ms/step - loss: 0.0026\n",
      "Epoch 26/50\n",
      "123/123 [==============================] - 24s 196ms/step - loss: 0.0026\n",
      "Epoch 27/50\n",
      "123/123 [==============================] - 25s 204ms/step - loss: 0.0027\n",
      "Epoch 28/50\n",
      "123/123 [==============================] - 27s 218ms/step - loss: 0.0029\n",
      "Epoch 29/50\n",
      "123/123 [==============================] - 28s 228ms/step - loss: 0.0026\n",
      "Epoch 30/50\n",
      "123/123 [==============================] - 25s 205ms/step - loss: 0.0026\n",
      "Epoch 31/50\n",
      "123/123 [==============================] - 25s 204ms/step - loss: 0.0025\n",
      "Epoch 32/50\n",
      "123/123 [==============================] - 23s 187ms/step - loss: 0.0026\n",
      "Epoch 33/50\n",
      "123/123 [==============================] - 24s 192ms/step - loss: 0.0026\n",
      "Epoch 34/50\n",
      "123/123 [==============================] - 23s 190ms/step - loss: 0.0025\n",
      "Epoch 35/50\n",
      "123/123 [==============================] - 24s 198ms/step - loss: 0.0024\n",
      "Epoch 36/50\n",
      "123/123 [==============================] - 24s 196ms/step - loss: 0.0025\n",
      "Epoch 37/50\n",
      "123/123 [==============================] - 25s 200ms/step - loss: 0.0024\n",
      "Epoch 38/50\n",
      "123/123 [==============================] - 24s 199ms/step - loss: 0.0025\n",
      "Epoch 39/50\n",
      "123/123 [==============================] - 25s 200ms/step - loss: 0.0024\n",
      "Epoch 40/50\n",
      "123/123 [==============================] - 25s 200ms/step - loss: 0.0025\n",
      "Epoch 41/50\n",
      "123/123 [==============================] - 26s 215ms/step - loss: 0.0025\n",
      "Epoch 42/50\n",
      "123/123 [==============================] - 28s 229ms/step - loss: 0.0024\n",
      "Epoch 43/50\n",
      "123/123 [==============================] - 27s 218ms/step - loss: 0.0025\n",
      "Epoch 44/50\n",
      "123/123 [==============================] - 25s 206ms/step - loss: 0.0026\n",
      "Epoch 45/50\n",
      "123/123 [==============================] - 26s 214ms/step - loss: 0.0025\n",
      "Epoch 46/50\n",
      "123/123 [==============================] - 25s 203ms/step - loss: 0.0025\n",
      "Epoch 47/50\n",
      "123/123 [==============================] - 25s 207ms/step - loss: 0.0024\n",
      "Epoch 48/50\n",
      "123/123 [==============================] - 26s 210ms/step - loss: 0.0022\n",
      "Epoch 49/50\n",
      "123/123 [==============================] - 25s 206ms/step - loss: 0.0023\n",
      "Epoch 50/50\n",
      "123/123 [==============================] - 26s 211ms/step - loss: 0.0025\n"
     ]
    },
    {
     "data": {
      "text/plain": [
       "<keras.callbacks.History at 0x155b451e130>"
      ]
     },
     "execution_count": 23,
     "metadata": {},
     "output_type": "execute_result"
    }
   ],
   "source": [
    "#  Adaptive Moment Estimation : algorithm used in deep learning that helps adjust the parameters of a neural network in real-time to improve its accuracy and speed. \n",
    "# Loss function is used to find error or deviation in the learning process\n",
    "model.compile(optimizer='adam', loss= 'mean_squared_error')\n",
    "\n",
    "model.fit(x_train, y_train, epochs=50)"
   ]
  },
  {
   "cell_type": "code",
   "execution_count": 24,
   "id": "b58b4dcc",
   "metadata": {},
   "outputs": [],
   "source": [
    "model.save('keras_model.h5')"
   ]
  },
  {
   "cell_type": "code",
   "execution_count": 25,
   "id": "fb2e5dca",
   "metadata": {},
   "outputs": [
    {
     "data": {
      "text/html": [
       "<div>\n",
       "<style scoped>\n",
       "    .dataframe tbody tr th:only-of-type {\n",
       "        vertical-align: middle;\n",
       "    }\n",
       "\n",
       "    .dataframe tbody tr th {\n",
       "        vertical-align: top;\n",
       "    }\n",
       "\n",
       "    .dataframe thead th {\n",
       "        text-align: right;\n",
       "    }\n",
       "</style>\n",
       "<table border=\"1\" class=\"dataframe\">\n",
       "  <thead>\n",
       "    <tr style=\"text-align: right;\">\n",
       "      <th></th>\n",
       "      <th>Close</th>\n",
       "    </tr>\n",
       "  </thead>\n",
       "  <tbody>\n",
       "    <tr>\n",
       "      <th>4022</th>\n",
       "      <td>204.300003</td>\n",
       "    </tr>\n",
       "    <tr>\n",
       "      <th>4023</th>\n",
       "      <td>199.399994</td>\n",
       "    </tr>\n",
       "    <tr>\n",
       "      <th>4024</th>\n",
       "      <td>200.899994</td>\n",
       "    </tr>\n",
       "    <tr>\n",
       "      <th>4025</th>\n",
       "      <td>196.050003</td>\n",
       "    </tr>\n",
       "    <tr>\n",
       "      <th>4026</th>\n",
       "      <td>184.300003</td>\n",
       "    </tr>\n",
       "  </tbody>\n",
       "</table>\n",
       "</div>"
      ],
      "text/plain": [
       "           Close\n",
       "4022  204.300003\n",
       "4023  199.399994\n",
       "4024  200.899994\n",
       "4025  196.050003\n",
       "4026  184.300003"
      ]
     },
     "execution_count": 25,
     "metadata": {},
     "output_type": "execute_result"
    }
   ],
   "source": [
    "data_testing.head()"
   ]
  },
  {
   "cell_type": "code",
   "execution_count": 26,
   "id": "73afac51",
   "metadata": {},
   "outputs": [],
   "source": [
    "past_100_days = data_training.tail(100)"
   ]
  },
  {
   "cell_type": "code",
   "execution_count": 48,
   "id": "671ef384",
   "metadata": {},
   "outputs": [
    {
     "name": "stderr",
     "output_type": "stream",
     "text": [
      "C:\\Users\\sreej\\AppData\\Local\\Temp\\ipykernel_24608\\531349220.py:1: FutureWarning: The frame.append method is deprecated and will be removed from pandas in a future version. Use pandas.concat instead.\n",
      "  final_df = past_100_days.append(data_testing, ignore_index=True)\n"
     ]
    }
   ],
   "source": [
    "final_df = past_100_days.append(data_testing, ignore_index=True)"
   ]
  },
  {
   "cell_type": "code",
   "execution_count": 28,
   "id": "1d0e8ed5",
   "metadata": {},
   "outputs": [
    {
     "name": "stdout",
     "output_type": "stream",
     "text": [
      "           Close\n",
      "0     256.350006\n",
      "1     259.299988\n",
      "2     268.500000\n",
      "3     279.750000\n",
      "4     284.799988\n",
      "...          ...\n",
      "1819  597.099976\n",
      "1820  601.900024\n",
      "1821  601.049988\n",
      "1822  611.799988\n",
      "1823  613.700012\n",
      "\n",
      "[1824 rows x 1 columns]\n"
     ]
    }
   ],
   "source": [
    " print(final_df)"
   ]
  },
  {
   "cell_type": "code",
   "execution_count": 29,
   "id": "60489afa",
   "metadata": {},
   "outputs": [
    {
     "name": "stdout",
     "output_type": "stream",
     "text": [
      "           Close\n",
      "4022  204.300003\n",
      "4023  199.399994\n",
      "4024  200.899994\n",
      "4025  196.050003\n",
      "4026  184.300003\n",
      "...          ...\n",
      "5741  597.099976\n",
      "5742  601.900024\n",
      "5743  601.049988\n",
      "5744  611.799988\n",
      "5745  613.700012\n",
      "\n",
      "[1724 rows x 1 columns]\n"
     ]
    }
   ],
   "source": [
    "print(data_testing)"
   ]
  },
  {
   "cell_type": "code",
   "execution_count": 30,
   "id": "3c7a19bc",
   "metadata": {},
   "outputs": [
    {
     "data": {
      "text/html": [
       "<div>\n",
       "<style scoped>\n",
       "    .dataframe tbody tr th:only-of-type {\n",
       "        vertical-align: middle;\n",
       "    }\n",
       "\n",
       "    .dataframe tbody tr th {\n",
       "        vertical-align: top;\n",
       "    }\n",
       "\n",
       "    .dataframe thead th {\n",
       "        text-align: right;\n",
       "    }\n",
       "</style>\n",
       "<table border=\"1\" class=\"dataframe\">\n",
       "  <thead>\n",
       "    <tr style=\"text-align: right;\">\n",
       "      <th></th>\n",
       "      <th>Close</th>\n",
       "    </tr>\n",
       "  </thead>\n",
       "  <tbody>\n",
       "    <tr>\n",
       "      <th>0</th>\n",
       "      <td>256.350006</td>\n",
       "    </tr>\n",
       "    <tr>\n",
       "      <th>1</th>\n",
       "      <td>259.299988</td>\n",
       "    </tr>\n",
       "    <tr>\n",
       "      <th>2</th>\n",
       "      <td>268.500000</td>\n",
       "    </tr>\n",
       "    <tr>\n",
       "      <th>3</th>\n",
       "      <td>279.750000</td>\n",
       "    </tr>\n",
       "    <tr>\n",
       "      <th>4</th>\n",
       "      <td>284.799988</td>\n",
       "    </tr>\n",
       "    <tr>\n",
       "      <th>5</th>\n",
       "      <td>278.000000</td>\n",
       "    </tr>\n",
       "    <tr>\n",
       "      <th>6</th>\n",
       "      <td>270.549988</td>\n",
       "    </tr>\n",
       "    <tr>\n",
       "      <th>7</th>\n",
       "      <td>267.500000</td>\n",
       "    </tr>\n",
       "    <tr>\n",
       "      <th>8</th>\n",
       "      <td>245.399994</td>\n",
       "    </tr>\n",
       "    <tr>\n",
       "      <th>9</th>\n",
       "      <td>253.350006</td>\n",
       "    </tr>\n",
       "  </tbody>\n",
       "</table>\n",
       "</div>"
      ],
      "text/plain": [
       "        Close\n",
       "0  256.350006\n",
       "1  259.299988\n",
       "2  268.500000\n",
       "3  279.750000\n",
       "4  284.799988\n",
       "5  278.000000\n",
       "6  270.549988\n",
       "7  267.500000\n",
       "8  245.399994\n",
       "9  253.350006"
      ]
     },
     "execution_count": 30,
     "metadata": {},
     "output_type": "execute_result"
    }
   ],
   "source": [
    "final_df.head(10)"
   ]
  },
  {
   "cell_type": "code",
   "execution_count": 31,
   "id": "3cd0bdf2",
   "metadata": {},
   "outputs": [
    {
     "data": {
      "text/plain": [
       "array([[0.22226904],\n",
       "       [0.22848411],\n",
       "       [0.24786684],\n",
       "       ...,\n",
       "       [0.94848833],\n",
       "       [0.9711366 ],\n",
       "       [0.9751396 ]])"
      ]
     },
     "execution_count": 31,
     "metadata": {},
     "output_type": "execute_result"
    }
   ],
   "source": [
    "input_data = scaler.fit_transform(final_df)\n",
    "input_data"
   ]
  },
  {
   "cell_type": "code",
   "execution_count": 32,
   "id": "e501e9fe",
   "metadata": {},
   "outputs": [
    {
     "data": {
      "text/plain": [
       "(1824, 1)"
      ]
     },
     "execution_count": 32,
     "metadata": {},
     "output_type": "execute_result"
    }
   ],
   "source": [
    "input_data.shape"
   ]
  },
  {
   "cell_type": "code",
   "execution_count": 33,
   "id": "5d5c3289",
   "metadata": {},
   "outputs": [],
   "source": [
    "x_test=[]\n",
    "y_test=[]\n",
    "\n",
    "for i in range(100, input_data.shape[0]):\n",
    "    x_test.append(input_data[i-100:i])\n",
    "    y_test.append(input_data[i,0])\n",
    "    "
   ]
  },
  {
   "cell_type": "code",
   "execution_count": 34,
   "id": "95b18c71",
   "metadata": {},
   "outputs": [],
   "source": [
    "x_test, y_test = ny.array(x_test), ny.array(y_test)"
   ]
  },
  {
   "cell_type": "code",
   "execution_count": 35,
   "id": "3206ba93",
   "metadata": {},
   "outputs": [
    {
     "name": "stdout",
     "output_type": "stream",
     "text": [
      "(1724, 100, 1)\n"
     ]
    }
   ],
   "source": [
    "print(x_test.shape)"
   ]
  },
  {
   "cell_type": "code",
   "execution_count": 36,
   "id": "aa48e978",
   "metadata": {},
   "outputs": [
    {
     "name": "stdout",
     "output_type": "stream",
     "text": [
      "(1724,)\n"
     ]
    }
   ],
   "source": [
    "print(y_test.shape)"
   ]
  },
  {
   "cell_type": "code",
   "execution_count": 37,
   "id": "b3eb3486",
   "metadata": {},
   "outputs": [
    {
     "name": "stdout",
     "output_type": "stream",
     "text": [
      "54/54 [==============================] - 3s 54ms/step\n"
     ]
    }
   ],
   "source": [
    "# Making Prediction\n",
    "\n",
    "y_predicted = model.predict(x_test)"
   ]
  },
  {
   "cell_type": "code",
   "execution_count": 38,
   "id": "ac22c87f",
   "metadata": {},
   "outputs": [
    {
     "data": {
      "text/plain": [
       "(1724, 1)"
      ]
     },
     "execution_count": 38,
     "metadata": {},
     "output_type": "execute_result"
    }
   ],
   "source": [
    "y_predicted.shape\n"
   ]
  },
  {
   "cell_type": "code",
   "execution_count": 39,
   "id": "50f1b282",
   "metadata": {},
   "outputs": [
    {
     "data": {
      "text/plain": [
       "array([0.11260929, 0.10228587, 0.10544609, ..., 0.94848833, 0.9711366 ,\n",
       "       0.9751396 ])"
      ]
     },
     "execution_count": 39,
     "metadata": {},
     "output_type": "execute_result"
    }
   ],
   "source": [
    "y_test"
   ]
  },
  {
   "cell_type": "code",
   "execution_count": 40,
   "id": "6ec0f7d5",
   "metadata": {},
   "outputs": [
    {
     "data": {
      "text/plain": [
       "array([[0.24494278],\n",
       "       [0.24201949],\n",
       "       [0.23847891],\n",
       "       ...,\n",
       "       [0.8630698 ],\n",
       "       [0.8682509 ],\n",
       "       [0.87535906]], dtype=float32)"
      ]
     },
     "execution_count": 40,
     "metadata": {},
     "output_type": "execute_result"
    }
   ],
   "source": [
    "y_predicted"
   ]
  },
  {
   "cell_type": "code",
   "execution_count": 41,
   "id": "e907b127",
   "metadata": {},
   "outputs": [
    {
     "data": {
      "text/plain": [
       "array([0.00210682])"
      ]
     },
     "execution_count": 41,
     "metadata": {},
     "output_type": "execute_result"
    }
   ],
   "source": [
    "scaler.scale_"
   ]
  },
  {
   "cell_type": "code",
   "execution_count": 42,
   "id": "305d39c7",
   "metadata": {},
   "outputs": [],
   "source": [
    "scale_factor  = 1/0.01786672\n",
    "y_predicted = y_predicted*scale_factor\n",
    "y_test = y_test*scale_factor"
   ]
  },
  {
   "cell_type": "code",
   "execution_count": 43,
   "id": "1a34e990",
   "metadata": {},
   "outputs": [
    {
     "data": {
      "image/png": "[encoded data removed]",
      "text/plain": [
       "<Figure size 1200x600 with 1 Axes>"
      ]
     },
     "metadata": {},
     "output_type": "display_data"
    }
   ],
   "source": [
    "plt.figure(figsize=(12,6))\n",
    "plt.plot(y_test, 'b', label = 'Original Price')\n",
    "plt.plot(y_predicted, 'r', label = 'Predicted Price')\n",
    "plt.xlabel('Time')\n",
    "plt.ylabel('Price')\n",
    "plt.show()"
   ]
  },
  {
   "attachments": {},
   "cell_type": "markdown",
   "id": "1481c1f1",
   "metadata": {},
   "source": []
  }
 ],
 "metadata": {
  "kernelspec": {
   "display_name": "Python 3 (ipykernel)",
   "language": "python",
   "name": "python3"
  },
  "language_info": {
   "codemirror_mode": {
    "name": "ipython",
    "version": 3
   },
   "file_extension": ".py",
   "mimetype": "text/x-python",
   "name": "python",
   "nbconvert_exporter": "python",
   "pygments_lexer": "ipython3",
   "version": "3.9.13"
  }
 },
 "nbformat": 4,
 "nbformat_minor": 5
}
